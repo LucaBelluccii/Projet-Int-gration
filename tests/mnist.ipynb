{
 "cells": [
  {
   "cell_type": "code",
   "execution_count": 8,
   "metadata": {},
   "outputs": [],
   "source": [
    "from brain import *\n",
    "from random import *\n",
    "from keras.datasets import mnist\n",
    "import matplotlib.pyplot as plt\n",
    "import pickle\n",
    "\n",
    "DATA_FILE = \"data.plk\"\n",
    "\n"
   ]
  },
  {
   "cell_type": "code",
   "execution_count": 10,
   "metadata": {},
   "outputs": [
    {
     "name": "stdout",
     "output_type": "stream",
     "text": [
      "5\n"
     ]
    }
   ],
   "source": [
    "(xTrain,yTrain), (xTest,yTest) = mnist.load_data()\n",
    "\n",
    "temp = []\n",
    "for i,img in enumerate(xTrain):\n",
    "    img = np.array(img)\n",
    "    img = img.flatten('f')\n",
    "    temp.append(img)\n",
    "print(len(temp))\n",
    "#for i,y in enumerate(yTrain):\n",
    "   # yTrain[i] = [1 if j==y else 0 for j in range(10)]\n",
    "print(yTrain[0])\n",
    "xTrain = np.array(temp)\n",
    "yTrain = np.array(yTrain)\n",
    "\n"
   ]
  },
  {
   "cell_type": "code",
   "execution_count": null,
   "metadata": {},
   "outputs": [],
   "source": [
    "pickle.dump(xTrain,open(\"x.plk\",\"wb\"))\n",
    "pickle.dump(yTrain,open(\"y.plk\",\"wb\"))"
   ]
  }
 ],
 "metadata": {
  "kernelspec": {
   "display_name": "Python 3",
   "language": "python",
   "name": "python3"
  },
  "language_info": {
   "codemirror_mode": {
    "name": "ipython",
    "version": 3
   },
   "file_extension": ".py",
   "mimetype": "text/x-python",
   "name": "python",
   "nbconvert_exporter": "python",
   "pygments_lexer": "ipython3",
   "version": "3.10.7"
  },
  "orig_nbformat": 4,
  "vscode": {
   "interpreter": {
    "hash": "1b4c8e9c8138ebbe178d6324e49c38cb29644da097b90c9fa712d1dbcb8e3c5d"
   }
  }
 },
 "nbformat": 4,
 "nbformat_minor": 2
}
