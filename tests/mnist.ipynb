{
 "cells": [
  {
   "cell_type": "code",
   "execution_count": 18,
   "metadata": {},
   "outputs": [],
   "source": [
    "from brain import *\n",
    "from random import *\n",
    "from util import *\n",
    "import numpy as np\n",
    "from keras.datasets import mnist\n",
    "import matplotlib.pyplot as plt\n",
    "import pickle\n",
    "\n",
    "\n",
    "\n",
    "epoches = 999\n"
   ]
  },
  {
   "cell_type": "code",
   "execution_count": 28,
   "metadata": {},
   "outputs": [
    {
     "data": {
      "text/plain": [
       "0"
      ]
     },
     "execution_count": 28,
     "metadata": {},
     "output_type": "execute_result"
    }
   ],
   "source": [
    "\n",
    "(xtrain,ytrain),(xtest,ytest)=mnist.load_data('mnist')\n",
    "\n",
    "newlist=imtodata(xtrain)\n",
    "\n",
    "\n",
    "#print(xtrain[0])\n",
    "\n"
   ]
  },
  {
   "cell_type": "code",
   "execution_count": 67,
   "metadata": {},
   "outputs": [
    {
     "name": "stdout",
     "output_type": "stream",
     "text": [
      "I focked up, epoch; 7\n",
      "og loss : 2.8328565199680035e-29\n",
      "new loss : 2.832856519978846e-29\n"
     ]
    }
   ],
   "source": [
    "\n",
    "\n",
    "\n",
    "for i in range(epoches):\n",
    "    network_structure = [10, 32, 32,32, 10]\n",
    "    net = Network(network_structure)\n",
    "    test = np.array([r.randint(0, 5) for i in range(len(net.layers[0].weights[0]))])\n",
    "\n",
    "    expectedoutput = np.zeros(len(net.layers[-1].weights))\n",
    "    expectedoutput[0] = 1\n",
    "    #ogCost = loss((net.feedforward(test)), expectedoutput)\n",
    "    cost = loss((net.feedforward(test)), expectedoutput)\n",
    "    addbacktobiases(net, test, expectedoutput)\n",
    "    addbacktoweights(net, test, expectedoutput)\n",
    "    new_cost = loss((net.feedforward(test)), expectedoutput)\n",
    "\n",
    "    if (new_cost>cost):\n",
    "        print(\"I focked up, epoch;\",i)\n",
    "        print(\"og loss :\",cost)\n",
    "        print(\"new loss :\",new_cost)\n",
    "        break\n",
    "\n",
    "     \n"
   ]
  },
  {
   "cell_type": "code",
   "execution_count": null,
   "metadata": {},
   "outputs": [],
   "source": []
  }
 ],
 "metadata": {
  "kernelspec": {
   "display_name": "Python 3",
   "language": "python",
   "name": "python3"
  },
  "language_info": {
   "codemirror_mode": {
    "name": "ipython",
    "version": 3
   },
   "file_extension": ".py",
   "mimetype": "text/x-python",
   "name": "python",
   "nbconvert_exporter": "python",
   "pygments_lexer": "ipython3",
   "version": "3.10.7"
  },
  "orig_nbformat": 4,
  "vscode": {
   "interpreter": {
    "hash": "1b4c8e9c8138ebbe178d6324e49c38cb29644da097b90c9fa712d1dbcb8e3c5d"
   }
  }
 },
 "nbformat": 4,
 "nbformat_minor": 2
}
